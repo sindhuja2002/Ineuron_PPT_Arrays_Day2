{
  "nbformat": 4,
  "nbformat_minor": 0,
  "metadata": {
    "colab": {
      "provenance": []
    },
    "kernelspec": {
      "name": "python3",
      "display_name": "Python 3"
    },
    "language_info": {
      "name": "python"
    }
  },
  "cells": [
    {
      "cell_type": "code",
      "execution_count": 1,
      "metadata": {
        "colab": {
          "base_uri": "https://localhost:8080/"
        },
        "id": "4BD-0K6Lx_Aa",
        "outputId": "bf08e9a6-56ff-453f-dd56-f1d046454c83"
      },
      "outputs": [
        {
          "output_type": "stream",
          "name": "stdout",
          "text": [
            "4\n"
          ]
        }
      ],
      "source": [
        "#question 1\n",
        "def array_pair_sum(nums):\n",
        "    nums.sort()  # Sort the array in ascending order\n",
        "    max_sum = 0\n",
        "    for i in range(0, len(nums), 2):\n",
        "        max_sum += nums[i]  # Add the minimum value in each pair\n",
        "    return max_sum\n",
        "\n",
        "# Test the function\n",
        "nums = [1, 4, 3, 2]\n",
        "print(array_pair_sum(nums))  # Output: 4\n",
        "\n",
        "#TC - O(nlogn)---sorting array\n",
        "#SC - O(1)----constant space ie no new space"
      ]
    },
    {
      "cell_type": "code",
      "source": [
        "#question 2\n",
        "def max_candies(candyType):\n",
        "    max_candy_count = len(set(candyType))  # Get the count of unique candy types\n",
        "    max_limit = len(candyType) // 2  # Maximum number of candies Alice can eat\n",
        "    return min(max_candy_count, max_limit)  # Return the minimum of the two values\n",
        "\n",
        "# Test the function\n",
        "candyType = [1, 1, 2, 2, 3, 3]\n",
        "print(max_candies(candyType))  # Output: 3\n",
        "\n",
        "#TC - O(n)\n",
        "#SC - o(n)"
      ],
      "metadata": {
        "colab": {
          "base_uri": "https://localhost:8080/"
        },
        "id": "kc66N6E7ySgJ",
        "outputId": "404326ee-c3ec-4e29-a7b8-e548bba6d2f2"
      },
      "execution_count": 2,
      "outputs": [
        {
          "output_type": "stream",
          "name": "stdout",
          "text": [
            "3\n"
          ]
        }
      ]
    },
    {
      "cell_type": "code",
      "source": [
        "#question 3\n",
        "from collections import Counter\n",
        "\n",
        "def findLHS(nums):\n",
        "    counter = Counter(nums)  # Count the frequency of each number in the array\n",
        "    longest_subsequence = 0\n",
        "    \n",
        "    for num in counter:\n",
        "        if num + 1 in counter:\n",
        "            current_length = counter[num] + counter[num + 1]\n",
        "            longest_subsequence = max(longest_subsequence, current_length)\n",
        "            #print(longest_subsequence, current_length)\n",
        "    \n",
        "    return longest_subsequence\n",
        "\n",
        "# Test the function\n",
        "nums = [1, 3, 2, 2, 5, 2, 3, 7]\n",
        "print(findLHS(nums))  # Output: 5\n",
        "\n",
        "#TC - O(n)\n",
        "#SC - o(n)"
      ],
      "metadata": {
        "colab": {
          "base_uri": "https://localhost:8080/"
        },
        "id": "V0FxuTkgzrci",
        "outputId": "ab66dce9-b0aa-4a06-921a-8f948c372393"
      },
      "execution_count": 6,
      "outputs": [
        {
          "output_type": "stream",
          "name": "stdout",
          "text": [
            "5\n"
          ]
        }
      ]
    },
    {
      "cell_type": "code",
      "source": [
        "#question 4\n",
        "def canPlaceFlowers(flowerbed, n):\n",
        "    count = 0\n",
        "    i = 0\n",
        "    while i < len(flowerbed):\n",
        "        #print(flowerbed[i],flowerbed[i-1],len(flowerbed)-1,flowerbed[i+1])\n",
        "        if flowerbed[i] == 0 and (i == 0 or flowerbed[i-1] == 0) and (i == len(flowerbed)-1 or flowerbed[i+1] == 0):\n",
        "            \n",
        "            flowerbed[i] = 1\n",
        "            count += 1\n",
        "            #print(count)\n",
        "        i += 1\n",
        "    return count >= n\n",
        "\n",
        "# Test the function\n",
        "flowerbed = [1, 0, 0, 0, 1]\n",
        "n = 1\n",
        "print(canPlaceFlowers(flowerbed, n))  # Output: True\n",
        "\n",
        "#TC - O(n)\n",
        "#SC - O(1)"
      ],
      "metadata": {
        "colab": {
          "base_uri": "https://localhost:8080/"
        },
        "id": "kdXmTF4C0rRB",
        "outputId": "e05ade7f-009d-4bfc-ce94-83678586b480"
      },
      "execution_count": 13,
      "outputs": [
        {
          "output_type": "stream",
          "name": "stdout",
          "text": [
            "True\n"
          ]
        }
      ]
    },
    {
      "cell_type": "code",
      "source": [
        "#question 5\n",
        "def maximumProduct(nums):\n",
        "    nums.sort()  # Sort the array in ascending order\n",
        "    n = len(nums)\n",
        "    # The maximum product can be either the product of the three largest numbers\n",
        "    # or the product of the two smallest numbers (if there are negative numbers) and the largest number\n",
        "    return max(nums[n-1] * nums[n-2] * nums[n-3], nums[0] * nums[1] * nums[n-1])\n",
        "\n",
        "# Test the function\n",
        "nums = [1, 2, 3]\n",
        "print(maximumProduct(nums))  # Output: 6\n",
        "\n",
        "#TC - O(nlogn)---sorting array\n",
        "#SC - O(1)"
      ],
      "metadata": {
        "colab": {
          "base_uri": "https://localhost:8080/"
        },
        "id": "1qGH1d_53UIX",
        "outputId": "396db2f6-fb2d-4f1b-d118-909484cf2673"
      },
      "execution_count": 14,
      "outputs": [
        {
          "output_type": "stream",
          "name": "stdout",
          "text": [
            "6\n"
          ]
        }
      ]
    },
    {
      "cell_type": "code",
      "source": [
        "#question 6\n",
        "def search(nums, target):\n",
        "    left = 0\n",
        "    right = len(nums) - 1\n",
        "\n",
        "    while left <= right:\n",
        "        mid = left + (right - left) // 2\n",
        "\n",
        "        if nums[mid] == target:\n",
        "            return mid\n",
        "        elif nums[mid] < target:\n",
        "            left = mid + 1\n",
        "        else:\n",
        "            right = mid - 1\n",
        "\n",
        "    return -1\n",
        "\n",
        "# Test the function\n",
        "nums = [-1, 0, 3, 5, 9, 12]\n",
        "target = 9\n",
        "print(search(nums, target))  # Output: 4\n",
        "\n",
        "#TC - O(logn)----binary search\n",
        "#SC - O(1)"
      ],
      "metadata": {
        "colab": {
          "base_uri": "https://localhost:8080/"
        },
        "id": "xOCm0ai68O1y",
        "outputId": "54eca2d3-48cb-4f83-9d4f-0eabab4978ed"
      },
      "execution_count": 15,
      "outputs": [
        {
          "output_type": "stream",
          "name": "stdout",
          "text": [
            "4\n"
          ]
        }
      ]
    },
    {
      "cell_type": "code",
      "source": [
        "#question 7\n",
        "def isMonotonic(nums):\n",
        "    increasing = decreasing = True\n",
        "\n",
        "    for i in range(1, len(nums)):\n",
        "        if nums[i] < nums[i - 1]:\n",
        "            increasing = False\n",
        "        if nums[i] > nums[i - 1]:\n",
        "            decreasing = False\n",
        "\n",
        "    return increasing or decreasing\n",
        "\n",
        "# Test the function\n",
        "nums = [1, 2, 2, 3]\n",
        "print(isMonotonic(nums))  # Output: True\n",
        "\n",
        "#TC - O(n)\n",
        "#SC - O(1)"
      ],
      "metadata": {
        "colab": {
          "base_uri": "https://localhost:8080/"
        },
        "id": "OHtk5sVv9nQf",
        "outputId": "feb25d42-a9f4-4880-d10d-6e1b8f046f12"
      },
      "execution_count": 16,
      "outputs": [
        {
          "output_type": "stream",
          "name": "stdout",
          "text": [
            "True\n"
          ]
        }
      ]
    },
    {
      "cell_type": "code",
      "source": [
        "#question 8\n",
        "def minDifference(nums, k):\n",
        "    if len(nums) <= 4:\n",
        "        return 0\n",
        "\n",
        "    nums.sort()\n",
        "\n",
        "    min_score = float('inf')\n",
        "    for i in range(4):\n",
        "        min_score = min(min_score, nums[-4+i] - nums[i])\n",
        "\n",
        "    return min_score\n",
        "\n",
        "# Test the function\n",
        "nums = [1]\n",
        "k = 0\n",
        "print(minDifference(nums, k))  # Output: 0\n",
        "\n",
        "#TC - O(nlogn)---sorting array\n",
        "#SC - O(1)"
      ],
      "metadata": {
        "colab": {
          "base_uri": "https://localhost:8080/"
        },
        "id": "7vH7m4J8-X15",
        "outputId": "dccf4b54-4bec-4aab-d325-51e513588396"
      },
      "execution_count": 17,
      "outputs": [
        {
          "output_type": "stream",
          "name": "stdout",
          "text": [
            "0\n"
          ]
        }
      ]
    },
    {
      "cell_type": "code",
      "source": [],
      "metadata": {
        "id": "tpTLEL3b-s5m"
      },
      "execution_count": null,
      "outputs": []
    }
  ]
}